{
 "cells": [
  {
   "cell_type": "code",
   "execution_count": 1,
   "id": "086083f6-7c95-4b37-ac16-068bf8ec43c6",
   "metadata": {},
   "outputs": [],
   "source": [
    "import findspark\n",
    "findspark.init()"
   ]
  },
  {
   "cell_type": "code",
   "execution_count": 2,
   "id": "367973fe-3bd4-4ea4-b933-f971d6aeca1b",
   "metadata": {},
   "outputs": [],
   "source": [
    "from pyspark.sql import SparkSession\n",
    "spark = SparkSession.builder.appName(\"example\").getOrCreate()"
   ]
  },
  {
   "cell_type": "code",
   "execution_count": 23,
   "id": "6306d31b-9eba-411e-935a-66dc3804a001",
   "metadata": {},
   "outputs": [
    {
     "name": "stdout",
     "output_type": "stream",
     "text": [
      "+----+\n",
      "|data|\n",
      "+----+\n",
      "| XBB|\n",
      "| CBA|\n",
      "|XACB|\n",
      "+----+\n",
      "\n"
     ]
    }
   ],
   "source": [
    "col = [[\"XBB\"], [\"CBA\"], [\"XACB\"]]\n",
    "schema = [\"data\"]\n",
    "df = spark.createDataFrame(col, schema=schema)\n",
    "df.show()"
   ]
  },
  {
   "cell_type": "code",
   "execution_count": 24,
   "id": "ccf57c25-3113-49ef-81f6-ec3f4f1eceea",
   "metadata": {},
   "outputs": [
    {
     "name": "stdout",
     "output_type": "stream",
     "text": [
      "+---+---+\n",
      "|pos|col|\n",
      "+---+---+\n",
      "|  0|  X|\n",
      "|  1|  B|\n",
      "|  2|  B|\n",
      "|  0|  C|\n",
      "|  1|  B|\n",
      "|  2|  A|\n",
      "|  0|  X|\n",
      "|  1|  A|\n",
      "|  2|  C|\n",
      "|  3|  B|\n",
      "+---+---+\n",
      "\n"
     ]
    }
   ],
   "source": [
    "import pyspark.sql.functions as F\n",
    "df1 = df.select(F.posexplode(F.split(F.col(\"data\"), \"\").alias(\"pos\", \"col\")))\n",
    "df1.show()"
   ]
  },
  {
   "cell_type": "code",
   "execution_count": 26,
   "id": "2cda03e9-208f-41b2-9ae8-4579b3767624",
   "metadata": {},
   "outputs": [
    {
     "name": "stdout",
     "output_type": "stream",
     "text": [
      "+---+----------+\n",
      "|col|count(col)|\n",
      "+---+----------+\n",
      "|  B|         4|\n",
      "|  X|         2|\n",
      "|  C|         2|\n",
      "|  A|         2|\n",
      "+---+----------+\n",
      "\n"
     ]
    }
   ],
   "source": [
    "df2 = df1.groupBy(F.col(\"col\")).agg(F.count(F.col(\"col\")))\n",
    "df2.show()"
   ]
  }
 ],
 "metadata": {
  "kernelspec": {
   "display_name": "Python 3 (ipykernel)",
   "language": "python",
   "name": "python3"
  },
  "language_info": {
   "codemirror_mode": {
    "name": "ipython",
    "version": 3
   },
   "file_extension": ".py",
   "mimetype": "text/x-python",
   "name": "python",
   "nbconvert_exporter": "python",
   "pygments_lexer": "ipython3",
   "version": "3.11.8"
  }
 },
 "nbformat": 4,
 "nbformat_minor": 5
}
